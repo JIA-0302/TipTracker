{
  "nbformat": 4,
  "nbformat_minor": 0,
  "metadata": {
    "colab": {
      "name": "Data_gen_script.ipynb",
      "provenance": [],
      "collapsed_sections": []
    },
    "kernelspec": {
      "name": "python3",
      "display_name": "Python 3"
    }
  },
  "cells": [
    {
      "cell_type": "code",
      "metadata": {
        "colab": {
          "base_uri": "https://localhost:8080/"
        },
        "id": "88flG0w9wqa0",
        "outputId": "9f574f60-2b28-4c1e-cf60-dc8de214f5ce"
      },
      "source": [
        "from __future__ import absolute_import\r\n",
        "from __future__ import print_function\r\n",
        "from __future__ import division\r\n",
        "\r\n",
        "%matplotlib inline  \r\n",
        "\r\n",
        "import sys\r\n",
        "import matplotlib\r\n",
        "import numpy as np\r\n",
        "import pandas as pd\r\n",
        "import datetime as datetime\r\n",
        "from astropy.table import QTable, Table, Column\r\n",
        "from astropy import units as u\r\n",
        "\r\n",
        "print('Version information')\r\n",
        "\r\n",
        "print('python: {}'.format(sys.version))\r\n",
        "\r\n",
        "# Set random seed so output is all same\r\n",
        "np.random.seed(1)"
      ],
      "execution_count": 106,
      "outputs": [
        {
          "output_type": "stream",
          "text": [
            "Version information\n",
            "python: 3.7.10 (default, Feb 20 2021, 21:17:23) \n",
            "[GCC 7.5.0]\n"
          ],
          "name": "stdout"
        }
      ]
    },
    {
      "cell_type": "markdown",
      "metadata": {
        "id": "lBsiJsXmw0VA"
      },
      "source": [
        "# Script for randomly generating data for hourly shifts\r\n"
      ]
    },
    {
      "cell_type": "code",
      "metadata": {
        "id": "-Jkn5nF3xUCJ"
      },
      "source": [
        "# Credit card and cash tips based on randomized total bill\r\n",
        "\r\n",
        "class Hourly_Shifts():\r\n",
        "\r\n",
        "  def __init__(self):\r\n",
        "    hourly_data_size = 10\r\n",
        "    user_id = np.empty(hourly_data_size)\r\n",
        "    employer_id = np.empty(hourly_data_size)\r\n",
        "    hourly_wage = np.empty(hourly_data_size)\r\n",
        "\r\n",
        "  def generate_Hourly_Data(self, data_size):\r\n",
        "    #data_size: the number of data points for hourly shifts\r\n",
        "    self.hourly_data_size = data_size\r\n",
        "    self.user_id = np.full((self.hourly_data_size), 2)\r\n",
        "    self.employer_id = np.full((self.hourly_data_size), 2)\r\n",
        "    shift_id = np.arange(1,self.hourly_data_size+1)\r\n",
        "    self.hourly_wage = np.full((self.hourly_data_size), round(8,2), dtype=float)\r\n",
        "\r\n",
        "    credit_card_tips = np.empty(self.hourly_data_size)\r\n",
        "    for i in range(self.hourly_data_size):\r\n",
        "      credit_card_tips[i] = round((np.random.uniform(3, 60) * np.random.randint(18, 20)) / 100, 2)\r\n",
        "\r\n",
        "    cash_tips = np.empty(self.hourly_data_size)\r\n",
        "    for i in range(self.hourly_data_size):\r\n",
        "      cash_tips[i] = round((np.random.uniform(3, 60) * np.random.randint(15, 20)) / 100, 0)\r\n",
        "\r\n",
        "    date_range = pd.date_range(start='8/1/2019', periods=self.hourly_data_size, freq='B')\r\n",
        "\r\n",
        "    start_time = np.empty(self.hourly_data_size, dtype=object)\r\n",
        "    end_time = np.empty(self.hourly_data_size, dtype=object)\r\n",
        "    for i in range(self.hourly_data_size):\r\n",
        "      begin_hour = np.random.randint(7,12)\r\n",
        "      begin_min = np.random.randint(0,50)\r\n",
        "      begin_seconds = np.random.randint(0,60)\r\n",
        "      end_hour = np.random.randint(3,9)\r\n",
        "      end_min = np.random.randint(0,50)\r\n",
        "      start_time[i] = \"{0}:{1}:{2}\".format(begin_hour, begin_min, begin_seconds)\r\n",
        "      end_time[i] = \"{0}:{1}:{2}\".format(begin_hour+end_hour, end_min, begin_seconds)\r\n",
        "\r\n",
        "    data = {'shift_id': shift_id, 'user_id': self.user_id, 'employer_id': self.employer_id, 'shift_date': date_range, \r\n",
        "            'start_time':start_time, 'end_time':end_time,'hourly_wage': self.hourly_wage, 'credit_card_tips': credit_card_tips, 'cash_tips': cash_tips}\r\n",
        "    hourly_shift_details = pd.DataFrame(data=data)\r\n",
        "\r\n",
        "    return hourly_shift_details\r\n",
        "\r\n",
        "  def SQL_INSERT_STATEMENT(self, SOURCE):\r\n",
        "    # SOURCE: source dataframe\r\n",
        "    # TARGET: target table to be created in database\r\n",
        "    sql_texts = []\r\n",
        "    for index, row in SOURCE.iterrows():       \r\n",
        "        sql_texts.append('INSERT INTO '+'`hourly_shift_details`'+' ('+ str(', '.join(SOURCE.columns))+ ') VALUES '+ str(tuple(row.values)))        \r\n",
        "    return sql_texts"
      ],
      "execution_count": 107,
      "outputs": []
    },
    {
      "cell_type": "code",
      "metadata": {
        "colab": {
          "base_uri": "https://localhost:8080/"
        },
        "id": "-TU8wNIDL8ZV",
        "outputId": "8d860bee-8f07-4cb2-e445-e1003a2581ce"
      },
      "source": [
        "H = Hourly_Shifts();\r\n",
        "h_shift_details = H.generate_Hourly_Data(10)\r\n",
        "h_shift_details\r\n",
        "sql_texts = H.SQL_INSERT_STATEMENT(h_shift_details)\r\n",
        "\r\n",
        "print(np.transpose(sql_texts))"
      ],
      "execution_count": 108,
      "outputs": [
        {
          "output_type": "stream",
          "text": [
            "[\"INSERT INTO `hourly_shift_details` (shift_id, user_id, employer_id, shift_date, start_time, end_time, hourly_wage, credit_card_tips, cash_tips) VALUES (1, 2, 2, Timestamp('2019-08-01 00:00:00'), '7:49:43', '14:26:43', 8.0, 4.82, 7.0)\"\n",
            " \"INSERT INTO `hourly_shift_details` (shift_id, user_id, employer_id, shift_date, start_time, end_time, hourly_wage, credit_card_tips, cash_tips) VALUES (2, 2, 2, Timestamp('2019-08-02 00:00:00'), '11:16:45', '17:41:45', 8.0, 10.67, 4.0)\"\n",
            " \"INSERT INTO `hourly_shift_details` (shift_id, user_id, employer_id, shift_date, start_time, end_time, hourly_wage, credit_card_tips, cash_tips) VALUES (3, 2, 2, Timestamp('2019-08-05 00:00:00'), '9:15:0', '16:25:0', 8.0, 3.84, 8.0)\"\n",
            " \"INSERT INTO `hourly_shift_details` (shift_id, user_id, employer_id, shift_date, start_time, end_time, hourly_wage, credit_card_tips, cash_tips) VALUES (4, 2, 2, Timestamp('2019-08-06 00:00:00'), '9:23:7', '14:25:7', 8.0, 3.13, 9.0)\"\n",
            " \"INSERT INTO `hourly_shift_details` (shift_id, user_id, employer_id, shift_date, start_time, end_time, hourly_wage, credit_card_tips, cash_tips) VALUES (5, 2, 2, Timestamp('2019-08-07 00:00:00'), '7:22:9', '13:39:9', 8.0, 2.59, 10.0)\"\n",
            " \"INSERT INTO `hourly_shift_details` (shift_id, user_id, employer_id, shift_date, start_time, end_time, hourly_wage, credit_card_tips, cash_tips) VALUES (6, 2, 2, Timestamp('2019-08-08 00:00:00'), '11:27:37', '15:19:37', 8.0, 7.82, 8.0)\"\n",
            " \"INSERT INTO `hourly_shift_details` (shift_id, user_id, employer_id, shift_date, start_time, end_time, hourly_wage, credit_card_tips, cash_tips) VALUES (7, 2, 2, Timestamp('2019-08-09 00:00:00'), '7:32:34', '12:23:34', 8.0, 6.07, 1.0)\"\n",
            " \"INSERT INTO `hourly_shift_details` (shift_id, user_id, employer_id, shift_date, start_time, end_time, hourly_wage, credit_card_tips, cash_tips) VALUES (8, 2, 2, Timestamp('2019-08-12 00:00:00'), '8:7:51', '15:10:51', 8.0, 3.75, 10.0)\"\n",
            " \"INSERT INTO `hourly_shift_details` (shift_id, user_id, employer_id, shift_date, start_time, end_time, hourly_wage, credit_card_tips, cash_tips) VALUES (9, 2, 2, Timestamp('2019-08-13 00:00:00'), '7:24:23', '11:49:23', 8.0, 2.64, 7.0)\"\n",
            " \"INSERT INTO `hourly_shift_details` (shift_id, user_id, employer_id, shift_date, start_time, end_time, hourly_wage, credit_card_tips, cash_tips) VALUES (10, 2, 2, Timestamp('2019-08-14 00:00:00'), '10:0:56', '18:13:56', 8.0, 2.9, 6.0)\"]\n"
          ],
          "name": "stdout"
        }
      ]
    },
    {
      "cell_type": "markdown",
      "metadata": {
        "id": "dGzMSY17IYcp"
      },
      "source": [
        "# Script for randomly generating data for non-hourly shifts"
      ]
    },
    {
      "cell_type": "code",
      "metadata": {
        "id": "8ZSzx-kgIhJc"
      },
      "source": [
        "# Credit card and cash tips based on randomized total bill\r\n",
        "\r\n",
        "class Non_Hourly_Shifts():\r\n",
        "\r\n",
        "  def __init__(self):\r\n",
        "    non_hourly_data_size = 10\r\n",
        "    user_id = np.empty(non_hourly_data_size)\r\n",
        "    employer_id = np.empty(non_hourly_data_size)\r\n",
        "    total_base_earning = np.empty(non_hourly_data_size)\r\n",
        "\r\n",
        "  def generate_Non_Hourly_Data(self, data_size):\r\n",
        "    #data_size: the number of data points for non_hourly shifts\r\n",
        "\r\n",
        "    self.non_hourly_data_size = data_size\r\n",
        "    self.user_id = np.full((self.non_hourly_data_size), 1)\r\n",
        "    self.employer_id = np.full((self.non_hourly_data_size), 1)\r\n",
        "    shift_id = np.arange(1, self.non_hourly_data_size+1)\r\n",
        "    self.total_base_earning = np.full((self.non_hourly_data_size), round(320,2), dtype=float)\r\n",
        "\r\n",
        "    credit_card_tips = np.empty(self.non_hourly_data_size)\r\n",
        "    for i in range(self.non_hourly_data_size):\r\n",
        "      credit_card_tips[i] = round((np.random.uniform(3, 60) * np.random.randint(18, 20)) / 100, 2)\r\n",
        "    \r\n",
        "    cash_tips = np.empty(self.non_hourly_data_size)\r\n",
        "    for i in range(self.non_hourly_data_size):\r\n",
        "      cash_tips[i] = round((np.random.uniform(3, 60) * np.random.randint(15, 20)) / 100, 0)\r\n",
        "    \r\n",
        "    date_range = pd.date_range('1/1/2020', periods =self.non_hourly_data_size)\r\n",
        "\r\n",
        "    data = {'shift_id': shift_id, 'user_id': self.user_id, 'employer_id': self.employer_id, 'shift_date': date_range, \r\n",
        "        'total_base_earning': self.total_base_earning, 'credit_card_tips': credit_card_tips, 'cash_tips': cash_tips}\r\n",
        "    non_hourly_shift_details = pd.DataFrame(data=data)\r\n",
        "\r\n",
        "    return non_hourly_shift_details\r\n",
        "\r\n",
        "  def SQL_INSERT_STATEMENT(self, SOURCE):\r\n",
        "    # SOURCE: source dataframe\r\n",
        "    # TARGET: target table to be created in database\r\n",
        "    sql_texts = []\r\n",
        "    for index, row in SOURCE.iterrows():       \r\n",
        "      sql_texts.append('INSERT INTO '+'`hourly_shift_details`'+' ('+ str(', '.join(SOURCE.columns))+ ') VALUES '+ str(tuple(row.values)))        \r\n",
        "    return sql_texts"
      ],
      "execution_count": 109,
      "outputs": []
    },
    {
      "cell_type": "code",
      "metadata": {
        "colab": {
          "base_uri": "https://localhost:8080/"
        },
        "id": "Iz9MkUiAKeDL",
        "outputId": "fb520484-997b-495d-b470-44b99de55930"
      },
      "source": [
        "NH = Non_Hourly_Shifts();\r\n",
        "nh_shift_details = NH.generate_Non_Hourly_Data(10)\r\n",
        "sql_texts = NH.SQL_INSERT_STATEMENT(nh_shift_details)\r\n",
        "print(np.transpose(sql_texts))"
      ],
      "execution_count": 110,
      "outputs": [
        {
          "output_type": "stream",
          "text": [
            "[\"INSERT INTO `hourly_shift_details` (shift_id, user_id, employer_id, shift_date, total_base_earning, credit_card_tips, cash_tips) VALUES (1, 1, 1, Timestamp('2020-01-01 00:00:00'), 320.0, 1.06, 7.0)\"\n",
            " \"INSERT INTO `hourly_shift_details` (shift_id, user_id, employer_id, shift_date, total_base_earning, credit_card_tips, cash_tips) VALUES (2, 1, 1, Timestamp('2020-01-02 00:00:00'), 320.0, 5.82, 4.0)\"\n",
            " \"INSERT INTO `hourly_shift_details` (shift_id, user_id, employer_id, shift_date, total_base_earning, credit_card_tips, cash_tips) VALUES (3, 1, 1, Timestamp('2020-01-03 00:00:00'), 320.0, 0.89, 3.0)\"\n",
            " \"INSERT INTO `hourly_shift_details` (shift_id, user_id, employer_id, shift_date, total_base_earning, credit_card_tips, cash_tips) VALUES (4, 1, 1, Timestamp('2020-01-04 00:00:00'), 320.0, 9.81, 9.0)\"\n",
            " \"INSERT INTO `hourly_shift_details` (shift_id, user_id, employer_id, shift_date, total_base_earning, credit_card_tips, cash_tips) VALUES (5, 1, 1, Timestamp('2020-01-05 00:00:00'), 320.0, 5.42, 10.0)\"\n",
            " \"INSERT INTO `hourly_shift_details` (shift_id, user_id, employer_id, shift_date, total_base_earning, credit_card_tips, cash_tips) VALUES (6, 1, 1, Timestamp('2020-01-06 00:00:00'), 320.0, 8.82, 5.0)\"\n",
            " \"INSERT INTO `hourly_shift_details` (shift_id, user_id, employer_id, shift_date, total_base_earning, credit_card_tips, cash_tips) VALUES (7, 1, 1, Timestamp('2020-01-07 00:00:00'), 320.0, 6.4, 2.0)\"\n",
            " \"INSERT INTO `hourly_shift_details` (shift_id, user_id, employer_id, shift_date, total_base_earning, credit_card_tips, cash_tips) VALUES (8, 1, 1, Timestamp('2020-01-08 00:00:00'), 320.0, 10.06, 4.0)\"\n",
            " \"INSERT INTO `hourly_shift_details` (shift_id, user_id, employer_id, shift_date, total_base_earning, credit_card_tips, cash_tips) VALUES (9, 1, 1, Timestamp('2020-01-09 00:00:00'), 320.0, 6.4, 10.0)\"\n",
            " \"INSERT INTO `hourly_shift_details` (shift_id, user_id, employer_id, shift_date, total_base_earning, credit_card_tips, cash_tips) VALUES (10, 1, 1, Timestamp('2020-01-10 00:00:00'), 320.0, 8.43, 8.0)\"]\n"
          ],
          "name": "stdout"
        }
      ]
    },
    {
      "cell_type": "markdown",
      "metadata": {
        "id": "LuZ0VHFA5UKc"
      },
      "source": [
        "# Script for randomly generating work schedule date\r\n",
        "\r\n"
      ]
    },
    {
      "cell_type": "code",
      "metadata": {
        "id": "PzqGZr_cVdnm"
      },
      "source": [
        "class Work_Schedule():\r\n",
        "\r\n",
        "  def __init__(self):\r\n",
        "    schedule_data_size = 10\r\n",
        "    user_id = np.empty(schedule_data_size)\r\n",
        "    employer_id = np.empty(schedule_data_size)\r\n",
        "\r\n",
        "  def generate_Work_Schedule_Data(self, data_size):\r\n",
        "    #data_size: the number of data points for work schedule\r\n",
        "\r\n",
        "    self.schedule_data_size = data_size\r\n",
        "    self.user_id = np.full((self.schedule_data_size), 1)\r\n",
        "    self.employer_id = np.full((self.schedule_data_size), 1)\r\n",
        "    schedule_id = np.arange(1, self.schedule_data_size+1)\r\n",
        "    \r\n",
        "    date_range = pd.date_range('3/1/2021', periods =self.schedule_data_size)\r\n",
        "\r\n",
        "    start_time = np.empty(self.schedule_data_size, dtype=object)\r\n",
        "    end_time = np.empty(self.schedule_data_size, dtype=object)\r\n",
        "    for i in range(self.schedule_data_size):\r\n",
        "      begin_hour = np.random.randint(7,12)\r\n",
        "      begin_min = np.random.randint(0,50)\r\n",
        "      begin_seconds = np.random.randint(0,60)\r\n",
        "      end_hour = np.random.randint(3,9)\r\n",
        "      end_min = np.random.randint(0,50)\r\n",
        "      start_time[i] = \"{0}:{1}:{2}\".format(begin_hour, begin_min, begin_seconds)\r\n",
        "      end_time[i] = \"{0}:{1}:{2}\".format(begin_hour+end_hour, end_min, begin_seconds)\r\n",
        "\r\n",
        "    data = {'schedule_id': schedule_id, 'user_id': self.user_id, 'employer_id': self.employer_id, 'shift_date': date_range, \r\n",
        "        'start_time': start_time, 'end_time': end_time}\r\n",
        "    work_schedule_details = pd.DataFrame(data=data)\r\n",
        "\r\n",
        "    return work_schedule_details\r\n",
        "\r\n",
        "  def SQL_INSERT_STATEMENT(self, SOURCE):\r\n",
        "    # SOURCE: source dataframe\r\n",
        "    # TARGET: target table to be created in database\r\n",
        "    sql_texts = []\r\n",
        "    for index, row in SOURCE.iterrows():       \r\n",
        "      sql_texts.append('INSERT INTO '+'`hourly_shift_details`'+' ('+ str(', '.join(SOURCE.columns))+ ') VALUES '+ str(tuple(row.values)))        \r\n",
        "    return sql_texts"
      ],
      "execution_count": 111,
      "outputs": []
    },
    {
      "cell_type": "code",
      "metadata": {
        "colab": {
          "base_uri": "https://localhost:8080/"
        },
        "id": "eo7RGplDXY-D",
        "outputId": "bea7a298-ac9d-4483-d187-ce4473b39338"
      },
      "source": [
        "WS = Work_Schedule()\r\n",
        "work_schedule_details = WS.generate_Work_Schedule_Data(15)\r\n",
        "sql_texts = WS.SQL_INSERT_STATEMENT(work_schedule_details)\r\n",
        "print(np.transpose(sql_texts))"
      ],
      "execution_count": 112,
      "outputs": [
        {
          "output_type": "stream",
          "text": [
            "[\"INSERT INTO `hourly_shift_details` (schedule_id, user_id, employer_id, shift_date, start_time, end_time) VALUES (1, 1, 1, Timestamp('2021-03-01 00:00:00'), '8:42:20', '11:22:20')\"\n",
            " \"INSERT INTO `hourly_shift_details` (schedule_id, user_id, employer_id, shift_date, start_time, end_time) VALUES (2, 1, 1, Timestamp('2021-03-02 00:00:00'), '8:33:53', '15:10:53')\"\n",
            " \"INSERT INTO `hourly_shift_details` (schedule_id, user_id, employer_id, shift_date, start_time, end_time) VALUES (3, 1, 1, Timestamp('2021-03-03 00:00:00'), '7:25:21', '10:19:21')\"\n",
            " \"INSERT INTO `hourly_shift_details` (schedule_id, user_id, employer_id, shift_date, start_time, end_time) VALUES (4, 1, 1, Timestamp('2021-03-04 00:00:00'), '8:49:14', '16:20:14')\"\n",
            " \"INSERT INTO `hourly_shift_details` (schedule_id, user_id, employer_id, shift_date, start_time, end_time) VALUES (5, 1, 1, Timestamp('2021-03-05 00:00:00'), '11:43:6', '19:15:6')\"\n",
            " \"INSERT INTO `hourly_shift_details` (schedule_id, user_id, employer_id, shift_date, start_time, end_time) VALUES (6, 1, 1, Timestamp('2021-03-06 00:00:00'), '7:9:2', '15:5:2')\"\n",
            " \"INSERT INTO `hourly_shift_details` (schedule_id, user_id, employer_id, shift_date, start_time, end_time) VALUES (7, 1, 1, Timestamp('2021-03-07 00:00:00'), '11:37:56', '19:40:56')\"\n",
            " \"INSERT INTO `hourly_shift_details` (schedule_id, user_id, employer_id, shift_date, start_time, end_time) VALUES (8, 1, 1, Timestamp('2021-03-08 00:00:00'), '10:49:49', '18:40:49')\"\n",
            " \"INSERT INTO `hourly_shift_details` (schedule_id, user_id, employer_id, shift_date, start_time, end_time) VALUES (9, 1, 1, Timestamp('2021-03-09 00:00:00'), '7:28:42', '15:3:42')\"\n",
            " \"INSERT INTO `hourly_shift_details` (schedule_id, user_id, employer_id, shift_date, start_time, end_time) VALUES (10, 1, 1, Timestamp('2021-03-10 00:00:00'), '11:2:14', '14:29:14')\"\n",
            " \"INSERT INTO `hourly_shift_details` (schedule_id, user_id, employer_id, shift_date, start_time, end_time) VALUES (11, 1, 1, Timestamp('2021-03-11 00:00:00'), '10:35:53', '18:33:53')\"\n",
            " \"INSERT INTO `hourly_shift_details` (schedule_id, user_id, employer_id, shift_date, start_time, end_time) VALUES (12, 1, 1, Timestamp('2021-03-12 00:00:00'), '9:20:19', '12:32:19')\"\n",
            " \"INSERT INTO `hourly_shift_details` (schedule_id, user_id, employer_id, shift_date, start_time, end_time) VALUES (13, 1, 1, Timestamp('2021-03-13 00:00:00'), '11:18:31', '18:30:31')\"\n",
            " \"INSERT INTO `hourly_shift_details` (schedule_id, user_id, employer_id, shift_date, start_time, end_time) VALUES (14, 1, 1, Timestamp('2021-03-14 00:00:00'), '9:8:45', '15:32:45')\"\n",
            " \"INSERT INTO `hourly_shift_details` (schedule_id, user_id, employer_id, shift_date, start_time, end_time) VALUES (15, 1, 1, Timestamp('2021-03-15 00:00:00'), '7:20:13', '12:15:13')\"]\n"
          ],
          "name": "stdout"
        }
      ]
    }
  ]
}